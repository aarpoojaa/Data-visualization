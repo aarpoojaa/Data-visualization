{
 "cells": [
  {
   "cell_type": "code",
   "execution_count": 121,
   "metadata": {},
   "outputs": [],
   "source": [
    "import pandas as pd\n",
    "import numpy as np\n"
   ]
  },
  {
   "cell_type": "markdown",
   "metadata": {},
   "source": [
    "# Question 1"
   ]
  },
  {
   "cell_type": "code",
   "execution_count": 122,
   "metadata": {},
   "outputs": [
    {
     "data": {
      "text/html": [
       "<div>\n",
       "<style scoped>\n",
       "    .dataframe tbody tr th:only-of-type {\n",
       "        vertical-align: middle;\n",
       "    }\n",
       "\n",
       "    .dataframe tbody tr th {\n",
       "        vertical-align: top;\n",
       "    }\n",
       "\n",
       "    .dataframe thead th {\n",
       "        text-align: right;\n",
       "    }\n",
       "</style>\n",
       "<table border=\"1\" class=\"dataframe\">\n",
       "  <thead>\n",
       "    <tr style=\"text-align: right;\">\n",
       "      <th></th>\n",
       "      <th>Name</th>\n",
       "      <th>Symbol</th>\n",
       "      <th>Atomic Number</th>\n",
       "    </tr>\n",
       "  </thead>\n",
       "  <tbody>\n",
       "    <tr>\n",
       "      <th>0</th>\n",
       "      <td>Hydrogen</td>\n",
       "      <td>H</td>\n",
       "      <td>1</td>\n",
       "    </tr>\n",
       "    <tr>\n",
       "      <th>1</th>\n",
       "      <td>Helium</td>\n",
       "      <td>He</td>\n",
       "      <td>2</td>\n",
       "    </tr>\n",
       "    <tr>\n",
       "      <th>2</th>\n",
       "      <td>Lithium</td>\n",
       "      <td>Li</td>\n",
       "      <td>3</td>\n",
       "    </tr>\n",
       "    <tr>\n",
       "      <th>3</th>\n",
       "      <td>Berelliyum</td>\n",
       "      <td>Be</td>\n",
       "      <td>4</td>\n",
       "    </tr>\n",
       "    <tr>\n",
       "      <th>4</th>\n",
       "      <td>Boron</td>\n",
       "      <td>B</td>\n",
       "      <td>5</td>\n",
       "    </tr>\n",
       "    <tr>\n",
       "      <th>5</th>\n",
       "      <td>Carbon</td>\n",
       "      <td>C</td>\n",
       "      <td>6</td>\n",
       "    </tr>\n",
       "    <tr>\n",
       "      <th>6</th>\n",
       "      <td>Nitrogen</td>\n",
       "      <td>N</td>\n",
       "      <td>7</td>\n",
       "    </tr>\n",
       "    <tr>\n",
       "      <th>7</th>\n",
       "      <td>Oxygen</td>\n",
       "      <td>O</td>\n",
       "      <td>8</td>\n",
       "    </tr>\n",
       "  </tbody>\n",
       "</table>\n",
       "</div>"
      ],
      "text/plain": [
       "         Name Symbol  Atomic Number\n",
       "0    Hydrogen      H              1\n",
       "1      Helium     He              2\n",
       "2     Lithium     Li              3\n",
       "3  Berelliyum     Be              4\n",
       "4       Boron      B              5\n",
       "5      Carbon      C              6\n",
       "6    Nitrogen      N              7\n",
       "7      Oxygen      O              8"
      ]
     },
     "execution_count": 122,
     "metadata": {},
     "output_type": "execute_result"
    }
   ],
   "source": [
    "df = pd.read_csv('Periodic Elements.csv', delimiter = ',')\n",
    "df"
   ]
  },
  {
   "cell_type": "code",
   "execution_count": 123,
   "metadata": {},
   "outputs": [
    {
     "data": {
      "text/html": [
       "<div>\n",
       "<style scoped>\n",
       "    .dataframe tbody tr th:only-of-type {\n",
       "        vertical-align: middle;\n",
       "    }\n",
       "\n",
       "    .dataframe tbody tr th {\n",
       "        vertical-align: top;\n",
       "    }\n",
       "\n",
       "    .dataframe thead th {\n",
       "        text-align: right;\n",
       "    }\n",
       "</style>\n",
       "<table border=\"1\" class=\"dataframe\">\n",
       "  <thead>\n",
       "    <tr style=\"text-align: right;\">\n",
       "      <th></th>\n",
       "      <th>Name</th>\n",
       "      <th>Symbol</th>\n",
       "      <th>Atomic Number</th>\n",
       "      <th>Atomic Weight</th>\n",
       "    </tr>\n",
       "  </thead>\n",
       "  <tbody>\n",
       "    <tr>\n",
       "      <th>0</th>\n",
       "      <td>Hydrogen</td>\n",
       "      <td>H</td>\n",
       "      <td>1</td>\n",
       "      <td>1.0</td>\n",
       "    </tr>\n",
       "    <tr>\n",
       "      <th>1</th>\n",
       "      <td>Helium</td>\n",
       "      <td>He</td>\n",
       "      <td>2</td>\n",
       "      <td>4.0</td>\n",
       "    </tr>\n",
       "    <tr>\n",
       "      <th>2</th>\n",
       "      <td>Lithium</td>\n",
       "      <td>Li</td>\n",
       "      <td>3</td>\n",
       "      <td>7.0</td>\n",
       "    </tr>\n",
       "    <tr>\n",
       "      <th>3</th>\n",
       "      <td>Berelliyum</td>\n",
       "      <td>Be</td>\n",
       "      <td>4</td>\n",
       "      <td>9.0</td>\n",
       "    </tr>\n",
       "    <tr>\n",
       "      <th>4</th>\n",
       "      <td>Boron</td>\n",
       "      <td>B</td>\n",
       "      <td>5</td>\n",
       "      <td>11.0</td>\n",
       "    </tr>\n",
       "    <tr>\n",
       "      <th>5</th>\n",
       "      <td>Carbon</td>\n",
       "      <td>C</td>\n",
       "      <td>6</td>\n",
       "      <td>12.0</td>\n",
       "    </tr>\n",
       "    <tr>\n",
       "      <th>6</th>\n",
       "      <td>Nitrogen</td>\n",
       "      <td>N</td>\n",
       "      <td>7</td>\n",
       "      <td>14.0</td>\n",
       "    </tr>\n",
       "    <tr>\n",
       "      <th>7</th>\n",
       "      <td>Oxygen</td>\n",
       "      <td>O</td>\n",
       "      <td>8</td>\n",
       "      <td>16.0</td>\n",
       "    </tr>\n",
       "    <tr>\n",
       "      <th>8</th>\n",
       "      <td>Fluorine</td>\n",
       "      <td>F</td>\n",
       "      <td>9</td>\n",
       "      <td>19.0</td>\n",
       "    </tr>\n",
       "    <tr>\n",
       "      <th>9</th>\n",
       "      <td>Neon</td>\n",
       "      <td>Ne</td>\n",
       "      <td>10</td>\n",
       "      <td>20.0</td>\n",
       "    </tr>\n",
       "  </tbody>\n",
       "</table>\n",
       "</div>"
      ],
      "text/plain": [
       "         Name Symbol  Atomic Number  Atomic Weight\n",
       "0    Hydrogen      H              1            1.0\n",
       "1      Helium     He              2            4.0\n",
       "2     Lithium     Li              3            7.0\n",
       "3  Berelliyum     Be              4            9.0\n",
       "4       Boron      B              5           11.0\n",
       "5      Carbon      C              6           12.0\n",
       "6    Nitrogen      N              7           14.0\n",
       "7      Oxygen      O              8           16.0\n",
       "8    Fluorine      F              9           19.0\n",
       "9        Neon     Ne             10           20.0"
      ]
     },
     "execution_count": 123,
     "metadata": {},
     "output_type": "execute_result"
    }
   ],
   "source": [
    "df_temp = pd.DataFrame({'Name':['Fluorine','Neon'],\n",
    "                        'Symbol':['F','Ne'],\n",
    "                        'Atomic Number':[9,10]}, index =[8,9])\n",
    "atomic_elements = pd.concat([df, df_temp], axis=0)\n",
    "#df.append(df_temp, ignore_index = True)\n",
    "atomic_elements\n",
    "\n",
    "\n",
    "##Adding another column to the dataframe\n",
    "df_weight = pd.DataFrame({'Atomic Weight': [1.008,4.003,6.941,9.012,10.811,12.011,14.007,15.999,18.998,20.180]})\n",
    "#rounding off to the nearest integer\n",
    "df_weight = df_weight.round(decimals = 0)\n",
    "atomic_elements = pd.concat([atomic_elements, df_weight], axis=1)\n",
    "atomic_elements"
   ]
  },
  {
   "cell_type": "markdown",
   "metadata": {},
   "source": [
    "# Question 2"
   ]
  },
  {
   "cell_type": "code",
   "execution_count": 124,
   "metadata": {},
   "outputs": [],
   "source": [
    "greek_alphabets = ['beta', 'delta', 'alpha', 'gamma', 'theta', 'lambda', 'zeta', 'epsilon', 'pi']\n",
    "#Two arrays with 9 random numbers with mean=10 and sd=1.5\n",
    "first_array = list(np.random.normal(10, 1.5, 9))\n",
    "second_array = list(np.random.normal(10, 1.5, 9))\n",
    "#Third array 'angle' using np.linspace to create 9 evenly spaced numbers in the interval 0-2*pi\n",
    "angle = list(np.linspace(0, 2*np.pi, 9))\n",
    "#Fourth array having the cosine values of the array 'cosine'\n",
    "cosine = list(np.cos(angle))"
   ]
  },
  {
   "cell_type": "code",
   "execution_count": 125,
   "metadata": {},
   "outputs": [
    {
     "name": "stdout",
     "output_type": "stream",
     "text": [
      "{'beta': (10.949736275868192, 8.169877142107932, 0.0, 1.0), 'delta': (10.00392209744082, 7.078183301130708, 0.7853981633974483, 0.7071067811865476), 'alpha': (11.011922260885688, 10.006536727365122, 1.5707963267948966, 6.123233995736766e-17), 'gamma': (9.544382085336071, 8.226922329626525, 2.356194490192345, -0.7071067811865475), 'theta': (8.719115436853588, 8.638136092595833, 3.141592653589793, -1.0), 'lambda': (10.946211410469607, 9.641320896264196, 3.9269908169872414, -0.7071067811865477), 'zeta': (7.455788915234077, 10.052127098096554, 4.71238898038469, -1.8369701987210297e-16), 'epsilon': (11.345415951448189, 10.188423802914768, 5.497787143782138, 0.7071067811865475), 'pi': (9.509208101538734, 12.52083375026315, 6.283185307179586, 1.0)}\n"
     ]
    }
   ],
   "source": [
    "#Creating a dictionary:\n",
    "#dictionary = dict(zip(greek_alphabets, first_array, second_array, angle, cosine))\n",
    "temp_zip = zip(first_array, second_array, angle, cosine)\n",
    "dictionary = dict(zip(greek_alphabets, temp_zip))\n",
    "print(dictionary)\n"
   ]
  },
  {
   "cell_type": "code",
   "execution_count": 126,
   "metadata": {},
   "outputs": [
    {
     "name": "stdout",
     "output_type": "stream",
     "text": [
      "        beta      delta         alpha     gamma     theta     lambda  \\\n",
      "0  10.949736  10.003922  1.101192e+01  9.544382  8.719115  10.946211   \n",
      "1   8.169877   7.078183  1.000654e+01  8.226922  8.638136   9.641321   \n",
      "2   0.000000   0.785398  1.570796e+00  2.356194  3.141593   3.926991   \n",
      "3   1.000000   0.707107  6.123234e-17 -0.707107 -1.000000  -0.707107   \n",
      "\n",
      "           zeta    epsilon         pi  \n",
      "0  7.455789e+00  11.345416   9.509208  \n",
      "1  1.005213e+01  10.188424  12.520834  \n",
      "2  4.712389e+00   5.497787   6.283185  \n",
      "3 -1.836970e-16   0.707107   1.000000  \n",
      "\n",
      "\n",
      "\n",
      "\n",
      "\n",
      "                 0          1         2             3\n",
      "beta     10.949736   8.169877  0.000000  1.000000e+00\n",
      "delta    10.003922   7.078183  0.785398  7.071068e-01\n",
      "alpha    11.011922  10.006537  1.570796  6.123234e-17\n",
      "gamma     9.544382   8.226922  2.356194 -7.071068e-01\n",
      "theta     8.719115   8.638136  3.141593 -1.000000e+00\n",
      "lambda   10.946211   9.641321  3.926991 -7.071068e-01\n",
      "zeta      7.455789  10.052127  4.712389 -1.836970e-16\n",
      "epsilon  11.345416  10.188424  5.497787  7.071068e-01\n",
      "pi        9.509208  12.520834  6.283185  1.000000e+00\n"
     ]
    }
   ],
   "source": [
    "#Dataframe from dictionary\n",
    "dict_df = pd.DataFrame(dictionary)\n",
    "print(dict_df)\n",
    "print(\"\\n\\n\\n\\n\")\n",
    "dict_df = pd.DataFrame.from_dict(dictionary, orient = 'index')\n",
    "print(dict_df)\n"
   ]
  },
  {
   "cell_type": "code",
   "execution_count": 127,
   "metadata": {},
   "outputs": [
    {
     "name": "stdout",
     "output_type": "stream",
     "text": [
      "                 0          1         2             3\n",
      "alpha    11.011922  10.006537  1.570796  6.123234e-17\n",
      "beta     10.949736   8.169877  0.000000  1.000000e+00\n",
      "delta    10.003922   7.078183  0.785398  7.071068e-01\n",
      "epsilon  11.345416  10.188424  5.497787  7.071068e-01\n",
      "gamma     9.544382   8.226922  2.356194 -7.071068e-01\n",
      "lambda   10.946211   9.641321  3.926991 -7.071068e-01\n",
      "pi        9.509208  12.520834  6.283185  1.000000e+00\n",
      "theta     8.719115   8.638136  3.141593 -1.000000e+00\n",
      "zeta      7.455789  10.052127  4.712389 -1.836970e-16\n",
      "\n",
      "\n",
      "\n",
      "\n",
      "\n",
      "                 1             3\n",
      "alpha    10.006537  6.123234e-17\n",
      "beta      8.169877  1.000000e+00\n",
      "delta     7.078183  7.071068e-01\n",
      "epsilon  10.188424  7.071068e-01\n",
      "gamma     8.226922 -7.071068e-01\n",
      "pi       12.520834  1.000000e+00\n",
      "theta     8.638136 -1.000000e+00\n",
      "zeta     10.052127 -1.836970e-16\n"
     ]
    }
   ],
   "source": [
    "#Sorting in ascending order\n",
    "dict_df = dict_df.sort_index()\n",
    "print(dict_df)\n",
    "print(\"\\n\\n\\n\\n\")\n",
    "\n",
    "#Two columns and one row dropped\n",
    "dict_df = dict_df.drop(['lambda'], axis = 0)\n",
    "dict_df = dict_df.drop([0,2], axis = 1)\n",
    "print(dict_df)"
   ]
  },
  {
   "cell_type": "markdown",
   "metadata": {},
   "source": [
    "# Question 3"
   ]
  },
  {
   "cell_type": "code",
   "execution_count": 128,
   "metadata": {},
   "outputs": [
    {
     "name": "stdout",
     "output_type": "stream",
     "text": [
      "Fibonacci sequence:\n",
      "[0, 1, 1, 2, 3, 5, 8, 13, 21, 34, 55, 89]\n",
      "[1.625, 1.6153846153846154, 1.619047619047619, 1.6176470588235294, 1.6181818181818182]\n",
      "There's not much difference seen in the ratio. The Golden ratio's value is 1.618 - PHI. All the ratio values are more or less similar to the Golden Ratio value.\n"
     ]
    }
   ],
   "source": [
    "def Fibonacci_generator(n):\n",
    "    if n <= 1:\n",
    "        return n\n",
    "    else:\n",
    "        return(Fibonacci_generator(n-1) + Fibonacci_generator(n-2))\n",
    "\n",
    "terms = 12\n",
    "fibonacci_list = []\n",
    "\n",
    "if terms <= 0:\n",
    "    print(\"Input should be greater than 0\")\n",
    "else:\n",
    "    print(\"Fibonacci sequence:\")\n",
    "    for i in range(terms):\n",
    "        fibonacci_list.append(Fibonacci_generator(i))\n",
    "print(fibonacci_list)\n",
    "\n",
    "#Iterating over the last 5 elements of the list:\n",
    "temp_list = []\n",
    "for i in range(terms-5,terms):\n",
    "    temp_list.append(Fibonacci_generator(i)/Fibonacci_generator(i-1))\n",
    "print(temp_list)\n",
    "    \n",
    "print(\"There's not much difference seen in the ratio. The Golden ratio's value is 1.618 - PHI. All the ratio values are more or less similar to the Golden Ratio value.\")\n"
   ]
  },
  {
   "cell_type": "markdown",
   "metadata": {},
   "source": [
    "# Quesiton 4 - Kelvin to Rankine"
   ]
  },
  {
   "cell_type": "code",
   "execution_count": 129,
   "metadata": {},
   "outputs": [
    {
     "name": "stdout",
     "output_type": "stream",
     "text": [
      "[7.2, 23.400000000000002, 100.8, 57.6, 36.0]\n",
      "[7.2, 23.400000000000002, 100.8, 57.6, 36.0]\n"
     ]
    }
   ],
   "source": [
    "#Tr = Tk * (9/5)\n",
    "def temp_convertor(n):\n",
    "    rankine_temp = []\n",
    "    for i in n:\n",
    "        rankine_temp.append((9/5) * i)\n",
    "    print(rankine_temp)\n",
    "\n",
    "kelvin_temperatures = [4,13,56,32,20]\n",
    "temp_convertor(kelvin_temperatures)\n",
    "\n",
    "#Using lambda function:\n",
    "a = lambda n: (9/5) * n\n",
    "\n",
    "result = []\n",
    "for i in kelvin_temperatures:\n",
    "    result.append(a(i))\n",
    "print(result)"
   ]
  },
  {
   "cell_type": "code",
   "execution_count": null,
   "metadata": {},
   "outputs": [],
   "source": []
  }
 ],
 "metadata": {
  "kernelspec": {
   "display_name": "Python 3",
   "language": "python",
   "name": "python3"
  },
  "language_info": {
   "codemirror_mode": {
    "name": "ipython",
    "version": 3
   },
   "file_extension": ".py",
   "mimetype": "text/x-python",
   "name": "python",
   "nbconvert_exporter": "python",
   "pygments_lexer": "ipython3",
   "version": "3.7.3"
  }
 },
 "nbformat": 4,
 "nbformat_minor": 2
}
